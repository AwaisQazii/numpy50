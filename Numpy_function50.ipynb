{
 "cells": [
  {
   "cell_type": "code",
   "execution_count": 2,
   "metadata": {},
   "outputs": [
    {
     "data": {
      "text/plain": [
       "array([0., 0., 0., 0., 0., 0., 0.])"
      ]
     },
     "execution_count": 2,
     "metadata": {},
     "output_type": "execute_result"
    }
   ],
   "source": [
    "import numpy as np\n",
    "a = np.zeros(7)\n",
    "a"
   ]
  },
  {
   "cell_type": "code",
   "execution_count": 3,
   "metadata": {},
   "outputs": [
    {
     "data": {
      "text/plain": [
       "dtype('float64')"
      ]
     },
     "execution_count": 3,
     "metadata": {},
     "output_type": "execute_result"
    }
   ],
   "source": [
    "a.dtype"
   ]
  },
  {
   "cell_type": "code",
   "execution_count": 5,
   "metadata": {},
   "outputs": [
    {
     "data": {
      "text/plain": [
       "array([0.00000000e+000, 0.00000000e+000, 0.00000000e+000, 0.00000000e+000,\n",
       "       0.00000000e+000, 4.24896455e-321, 4.00536721e-307, 2.44771535e-307])"
      ]
     },
     "execution_count": 5,
     "metadata": {},
     "output_type": "execute_result"
    }
   ],
   "source": [
    "c=np.empty(8)\n",
    "c"
   ]
  },
  {
   "cell_type": "code",
   "execution_count": 8,
   "metadata": {},
   "outputs": [
    {
     "data": {
      "text/plain": [
       "array([[0.00000000e+000, 0.00000000e+000],\n",
       "       [0.00000000e+000, 0.00000000e+000],\n",
       "       [0.00000000e+000, 4.24896455e-321],\n",
       "       [4.00536721e-307, 2.44771535e-307]])"
      ]
     },
     "execution_count": 8,
     "metadata": {},
     "output_type": "execute_result"
    }
   ],
   "source": [
    "c.shape =(4,2)\n",
    "c"
   ]
  },
  {
   "cell_type": "code",
   "execution_count": 11,
   "metadata": {},
   "outputs": [
    {
     "data": {
      "text/plain": [
       "array([1., 2., 3., 4., 5.])"
      ]
     },
     "execution_count": 11,
     "metadata": {},
     "output_type": "execute_result"
    }
   ],
   "source": [
    "d= np.linspace(1,5,5)\n",
    "d"
   ]
  },
  {
   "cell_type": "code",
   "execution_count": 12,
   "metadata": {},
   "outputs": [
    {
     "data": {
      "text/plain": [
       "array([ 3,  8, 13, 18])"
      ]
     },
     "execution_count": 12,
     "metadata": {},
     "output_type": "execute_result"
    }
   ],
   "source": [
    "e=np.arange(3,20,5)\n",
    "e\n"
   ]
  },
  {
   "cell_type": "code",
   "execution_count": 14,
   "metadata": {},
   "outputs": [
    {
     "data": {
      "text/plain": [
       "array([4, 7, 5])"
      ]
     },
     "execution_count": 14,
     "metadata": {},
     "output_type": "execute_result"
    }
   ],
   "source": [
    "f = np.array((4,7,5))\n",
    "f"
   ]
  },
  {
   "cell_type": "code",
   "execution_count": 16,
   "metadata": {},
   "outputs": [
    {
     "data": {
      "text/plain": [
       "array([[1, 2, 3, 4, 5, 6],\n",
       "       [1, 2, 3, 4, 5, 6]])"
      ]
     },
     "execution_count": 16,
     "metadata": {},
     "output_type": "execute_result"
    }
   ],
   "source": [
    "list= [1,2,3,4,5,6],[1,2,3,4,5,6]\n",
    "g=np.array((list))\n",
    "g"
   ]
  },
  {
   "cell_type": "code",
   "execution_count": 18,
   "metadata": {},
   "outputs": [
    {
     "data": {
      "text/plain": [
       "array([[1, 2, 3, 4, 5, 6],\n",
       "       [1, 2, 3, 4, 5, 6]])"
      ]
     },
     "execution_count": 18,
     "metadata": {},
     "output_type": "execute_result"
    }
   ],
   "source": [
    "g.shape\n",
    "g"
   ]
  },
  {
   "cell_type": "code",
   "execution_count": 19,
   "metadata": {},
   "outputs": [
    {
     "data": {
      "text/plain": [
       "array([28,  8, 16, 25, 30, 20])"
      ]
     },
     "execution_count": 19,
     "metadata": {},
     "output_type": "execute_result"
    }
   ],
   "source": [
    "h = np.random.randint(50,size=6)\n",
    "h"
   ]
  },
  {
   "cell_type": "code",
   "execution_count": 20,
   "metadata": {},
   "outputs": [
    {
     "data": {
      "text/plain": [
       "8"
      ]
     },
     "execution_count": 20,
     "metadata": {},
     "output_type": "execute_result"
    }
   ],
   "source": [
    "h[1]\n"
   ]
  },
  {
   "cell_type": "code",
   "execution_count": 21,
   "metadata": {},
   "outputs": [
    {
     "data": {
      "text/plain": [
       "array([28,  8, 16])"
      ]
     },
     "execution_count": 21,
     "metadata": {},
     "output_type": "execute_result"
    }
   ],
   "source": [
    "h[0:3]"
   ]
  },
  {
   "cell_type": "code",
   "execution_count": 22,
   "metadata": {},
   "outputs": [
    {
     "data": {
      "text/plain": [
       "20"
      ]
     },
     "execution_count": 22,
     "metadata": {},
     "output_type": "execute_result"
    }
   ],
   "source": [
    "h[-1]"
   ]
  },
  {
   "cell_type": "code",
   "execution_count": 24,
   "metadata": {},
   "outputs": [
    {
     "data": {
      "text/plain": [
       "array([False, False, False, False, False, False])"
      ]
     },
     "execution_count": 24,
     "metadata": {},
     "output_type": "execute_result"
    }
   ],
   "source": [
    "h>30"
   ]
  },
  {
   "cell_type": "code",
   "execution_count": 25,
   "metadata": {},
   "outputs": [
    {
     "data": {
      "text/plain": [
       "array([14. ,  4. ,  8. , 12.5, 15. , 10. ])"
      ]
     },
     "execution_count": 25,
     "metadata": {},
     "output_type": "execute_result"
    }
   ],
   "source": [
    "h*2/4"
   ]
  },
  {
   "cell_type": "code",
   "execution_count": 26,
   "metadata": {},
   "outputs": [
    {
     "data": {
      "text/plain": [
       "array([-22, -42, -34, -25, -20, -30])"
      ]
     },
     "execution_count": 26,
     "metadata": {},
     "output_type": "execute_result"
    }
   ],
   "source": [
    "h+50-100"
   ]
  },
  {
   "cell_type": "code",
   "execution_count": 27,
   "metadata": {},
   "outputs": [
    {
     "data": {
      "text/plain": [
       "array(['FAIL try Again', 'FAIL try Again', 'FAIL try Again',\n",
       "       'FAIL try Again', 'FAIL try Again', 'PASS', 'PASS', 'PASS', 'PASS'],\n",
       "      dtype='<U14')"
      ]
     },
     "execution_count": 27,
     "metadata": {},
     "output_type": "execute_result"
    }
   ],
   "source": [
    "result = np.array([10,20,30,40,50,60,80,90,65])\n",
    "np.where(result>50,\"PASS\",\"FAIL try Again\")"
   ]
  },
  {
   "cell_type": "code",
   "execution_count": 39,
   "metadata": {},
   "outputs": [
    {
     "data": {
      "text/plain": [
       "array([-1,  0, -1,  0, -1, -2, -3, -2, -3, -2, -1,  0,  1,  2,  1,  2,  3,\n",
       "        2,  1,  0,  1,  2,  1,  2,  3,  4,  3,  2,  3,  4,  3,  2,  1,  0,\n",
       "       -1, -2, -1, -2, -3, -4, -3, -2, -3, -2, -1, -2, -3, -4, -3, -2, -1,\n",
       "        0,  1,  2,  3,  2,  1,  2,  1,  2,  3,  4,  5,  4,  5,  6,  5,  6,\n",
       "        5,  6,  5,  6,  7,  6,  5,  4,  5,  4,  5,  6,  7,  6,  5,  4,  5,\n",
       "        4,  3,  4,  5,  6,  7,  6,  5,  4,  5,  6,  7,  8,  9, 10,  9,  8,\n",
       "        7,  6,  7,  8,  7,  8,  9, 10,  9,  8,  9, 10,  9, 10, 11, 12, 11,\n",
       "       12, 13, 14, 15, 16, 17, 16, 17, 16, 15, 16, 17, 16, 17, 18, 17, 16,\n",
       "       15, 16, 15, 14, 15, 14, 13, 12, 11, 12, 13, 14, 15, 16, 17, 16, 17,\n",
       "       18, 19, 18, 17, 16, 17, 16, 15, 16, 17, 16, 15, 16, 15, 14, 13, 14,\n",
       "       15, 16, 17, 16, 15, 16, 17, 18, 19, 20, 19, 18, 17, 18, 17, 18, 17,\n",
       "       16, 15, 16, 15, 16, 15, 16, 15, 16, 17, 16, 17, 18, 19, 18, 17, 18,\n",
       "       19, 18, 19, 20, 21, 22, 21, 22, 21, 20, 21, 20, 21, 22, 21, 22, 21,\n",
       "       22, 23, 22, 23, 22, 21, 20, 21, 22, 21, 22, 23, 22, 23, 22, 21, 22,\n",
       "       23, 24, 25, 24, 25, 26, 25, 24, 23, 22, 23, 22, 23, 24, 23, 24, 23,\n",
       "       22, 23, 22, 23, 24, 23, 24, 23, 22, 23, 22, 23, 24, 25, 24, 25, 26,\n",
       "       25, 26, 27, 28, 27, 26, 25, 24, 25, 26, 27, 28, 27, 28, 27, 28, 27,\n",
       "       28, 29, 28, 27, 26, 25, 24, 23, 24, 25, 24, 25, 24, 23, 22, 21, 22,\n",
       "       21, 20, 19, 20, 19, 18, 19, 18, 19, 18, 17, 16, 15, 16, 17, 18, 19,\n",
       "       20, 21, 22, 21, 20, 21, 20, 21, 22, 23, 22, 21, 22, 21, 20, 19, 18,\n",
       "       17, 16, 17, 18, 17, 16, 15, 14, 13, 12, 11, 12, 13, 12, 11, 10,  9,\n",
       "       10, 11, 10,  9, 10,  9, 10, 11, 12, 11, 12, 13, 14, 15, 16, 15, 14,\n",
       "       15, 14, 13, 12, 13, 12, 13, 14, 15, 14, 13, 14, 15, 14, 15, 14, 15,\n",
       "       16, 17, 18, 19, 18, 17, 16, 15, 14, 13, 12, 13, 12, 13, 12, 13, 12,\n",
       "       11, 10,  9, 10,  9, 10, 11, 12, 11, 12, 13, 12, 13, 14, 13, 12, 13,\n",
       "       14, 15, 14, 13, 14, 15, 14, 15, 14, 13, 12, 13, 12, 13, 12, 11, 12,\n",
       "       11, 12, 13, 12, 13, 14, 13, 14, 15, 16, 17, 16, 17, 16, 15, 14, 13,\n",
       "       14, 13, 14, 15, 14, 13, 14, 15, 16, 15, 14, 13, 12, 13, 12, 11, 10,\n",
       "       11, 12, 11, 12, 11, 10, 11, 10, 11, 12, 13, 12, 11, 10,  9,  8,  9,\n",
       "       10, 11, 12, 11, 12, 13, 14, 13, 12, 11, 10, 11, 12, 13, 14, 13, 14,\n",
       "       15, 14, 15, 14, 13, 12, 11, 10,  9,  8,  7,  6,  5,  4,  5,  4,  5,\n",
       "        6,  5,  6,  7,  6,  5,  4,  5,  4,  3,  4,  5,  6,  5,  6,  7,  6,\n",
       "        7,  8,  7,  6,  7,  8,  9, 10, 11, 12, 13, 14, 15, 16, 17, 18, 17,\n",
       "       16, 17, 16, 17, 18, 17, 16, 17, 18, 17, 18, 17, 16, 17, 18, 19, 20,\n",
       "       19, 20, 19, 18, 19, 18, 17, 18, 19, 18, 19, 18, 17, 16, 17, 16, 17,\n",
       "       16, 17, 16, 17, 16, 17, 16, 15, 14, 13, 14, 15, 16, 15, 14, 13, 12,\n",
       "       11, 10,  9,  8,  9, 10, 11, 12, 13, 12, 13, 12, 13, 14, 13, 14, 15,\n",
       "       16, 15, 16, 17, 16, 15, 16, 15, 14, 15, 14, 13, 14, 15, 16, 17, 16,\n",
       "       17, 18, 19, 20, 19, 18, 17, 18, 17, 16, 15, 14, 15, 14, 13, 14, 15,\n",
       "       14, 13, 12, 13, 12, 11, 10, 11, 12, 11, 10,  9,  8,  7,  6,  5,  4,\n",
       "        3,  4,  5,  4,  3,  4,  3,  2,  3,  4,  3,  2,  1,  0, -1, -2, -3,\n",
       "       -4, -3, -4, -5, -4, -5, -6, -7, -6, -7, -6, -7, -8, -7, -6, -7, -6,\n",
       "       -5, -6, -5, -4, -5, -6, -5, -4, -3, -2, -3, -4, -3, -2, -1, -2, -3,\n",
       "       -4, -3, -2, -1,  0, -1,  0, -1,  0, -1, -2, -1, -2, -1,  0, -1, -2,\n",
       "       -3, -4, -3, -2, -1, -2, -1,  0,  1,  0, -1, -2, -1, -2, -1,  0, -1,\n",
       "        0,  1,  2,  3,  2,  3,  4,  3,  2,  1,  2,  1,  0, -1, -2, -3, -4,\n",
       "       -3, -2, -3, -4, -5, -6, -7, -6, -5, -6, -7, -6, -5, -4, -3, -2, -3,\n",
       "       -4, -3, -4, -3, -4, -3, -2, -3, -2, -1, -2, -1, -2, -3, -2, -3, -2,\n",
       "       -1,  0, -1,  0, -1,  0, -1, -2, -3, -2, -1, -2, -1,  0,  1,  0,  1,\n",
       "        0,  1,  0, -1, -2, -1,  0,  1,  2,  3,  2,  1,  0, -1, -2, -3, -4,\n",
       "       -5, -6, -7, -6, -7, -6, -5, -4, -5, -4, -3, -4, -3, -4, -3, -4, -3,\n",
       "       -2, -1, -2, -1,  0,  1,  2,  1,  2,  3,  4,  3,  2,  1,  2,  1,  0,\n",
       "        1,  0, -1,  0, -1, -2, -1,  0,  1,  0,  1,  2,  3,  2,  1,  2,  1,\n",
       "        0,  1,  2,  1,  2,  1,  0, -1, -2, -1,  0,  1,  0,  1,  2,  1,  2,\n",
       "        3,  2,  1,  0, -1,  0, -1, -2, -3, -2, -1, -2, -1,  0, -1,  0,  1,\n",
       "        0,  1,  2,  1,  0,  1,  2,  1,  0,  1,  0, -1, -2, -1, -2, -1,  0,\n",
       "       -1,  0,  1,  2,  1,  2,  3,  2,  3,  4,  3,  2,  3,  4,  3,  2,  3,\n",
       "        4,  3,  2,  3,  4,  5,  6,  5,  4,  3,  4,  3,  4,  5,  6,  5,  4,\n",
       "        5,  6,  7,  8,  9,  8,  9,  8,  7,  6,  7,  6,  7,  6],\n",
       "      dtype=int32)"
      ]
     },
     "execution_count": 39,
     "metadata": {},
     "output_type": "execute_result"
    }
   ],
   "source": [
    "nsteps = 1000\n",
    "draws = np.random.randint(0,2,size=nsteps)\n",
    "steps = np.where(draws > 0,1,-1)\n",
    "walk = steps.cumsum()\n",
    "\n",
    "walk"
   ]
  },
  {
   "cell_type": "code",
   "execution_count": 46,
   "metadata": {},
   "outputs": [
    {
     "name": "stdout",
     "output_type": "stream",
     "text": [
      "-8\n",
      "\n",
      " 29\n"
     ]
    }
   ],
   "source": [
    "print (walk.min())\n",
    "print('\\n', walk.max())\n"
   ]
  },
  {
   "cell_type": "code",
   "execution_count": 49,
   "metadata": {},
   "outputs": [
    {
     "data": {
      "text/plain": [
       "99"
      ]
     },
     "execution_count": 49,
     "metadata": {},
     "output_type": "execute_result"
    }
   ],
   "source": [
    "(np.abs(walk)>= 10).argmax()"
   ]
  },
  {
   "cell_type": "code",
   "execution_count": 53,
   "metadata": {},
   "outputs": [
    {
     "data": {
      "text/plain": [
       "array([[-0.30507747, -0.23995344,  0.24195561, ...,  0.52605284,\n",
       "         0.32242156,  0.13916377],\n",
       "       [-0.14599646,  0.33028479,  0.07621014, ...,  0.30231577,\n",
       "        -0.17656737, -0.41292003],\n",
       "       [-0.21772085,  0.29391975, -0.31266875, ...,  0.06389394,\n",
       "        -0.04665315, -0.3560786 ],\n",
       "       ...,\n",
       "       [ 0.09090175,  0.23315987, -0.00128586, ...,  0.25841231,\n",
       "         0.19941604, -0.13818628],\n",
       "       [-0.56030127,  0.08972576, -0.11053981, ..., -0.48252043,\n",
       "         0.20977333,  0.17918154],\n",
       "       [ 0.05042442,  0.1183612 ,  0.007635  , ..., -0.00681914,\n",
       "         0.22413723,  0.34140872]])"
      ]
     },
     "execution_count": 53,
     "metadata": {},
     "output_type": "execute_result"
    }
   ],
   "source": [
    "nwalks = 5000\n",
    "steps=np.random.normal(loc=0, scale=0.25,size=(nwalks, nsteps))\n",
    "steps"
   ]
  },
  {
   "cell_type": "code",
   "execution_count": null,
   "metadata": {},
   "outputs": [],
   "source": []
  }
 ],
 "metadata": {
  "kernelspec": {
   "display_name": "Python 3",
   "language": "python",
   "name": "python3"
  },
  "language_info": {
   "codemirror_mode": {
    "name": "ipython",
    "version": 3
   },
   "file_extension": ".py",
   "mimetype": "text/x-python",
   "name": "python",
   "nbconvert_exporter": "python",
   "pygments_lexer": "ipython3",
   "version": "3.7.6"
  }
 },
 "nbformat": 4,
 "nbformat_minor": 4
}
